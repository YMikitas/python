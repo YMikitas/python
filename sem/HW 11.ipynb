{
 "cells": [
  {
   "cell_type": "markdown",
   "id": "cb1ec96a",
   "metadata": {},
   "source": [
    "# f(x) = (sin(x)/2 + cos(x)/2) ** 2 * sin(x)\n",
    "\n",
    "1. Определить корни\n",
    "2. Найти интервалы, на которых функция возрастает\n",
    "3. Найти интервалы, на которых функция убывает\n",
    "4. Построить график\n",
    "5. Вычислить вершину\n",
    "6. Определить промежутки, на котором f > 0\n",
    "7. Определить промежутки, на котором f < 0"
   ]
  },
  {
   "cell_type": "markdown",
   "id": "8d5c0ad6",
   "metadata": {},
   "source": [
    "# 1. Определить корни"
   ]
  },
  {
   "cell_type": "code",
   "execution_count": 4,
   "id": "ff57f7c9",
   "metadata": {
    "scrolled": true
   },
   "outputs": [
    {
     "data": {
      "text/latex": [
       "$\\displaystyle \\left(\\frac{\\sin{\\left(x \\right)}}{2} + \\frac{\\cos{\\left(x \\right)}}{2}\\right)^{2} \\sin{\\left(x \\right)}$"
      ],
      "text/plain": [
       "(sin(x)/2 + cos(x)/2)**2*sin(x)"
      ]
     },
     "execution_count": 4,
     "metadata": {},
     "output_type": "execute_result"
    }
   ],
   "source": [
    "from sympy import *\n",
    "\n",
    "x = Symbol('x')\n",
    "func = (sin(x)/2 + cos(x)/2) ** 2 * sin(x)\n",
    "func"
   ]
  },
  {
   "cell_type": "code",
   "execution_count": 5,
   "id": "9fcaa773",
   "metadata": {},
   "outputs": [
    {
     "data": {
      "text/plain": [
       "[0, -pi/4, 3*pi/4, pi]"
      ]
     },
     "execution_count": 5,
     "metadata": {},
     "output_type": "execute_result"
    }
   ],
   "source": [
    "root = solve(func,x)\n",
    "root"
   ]
  },
  {
   "cell_type": "markdown",
   "id": "27a1166f",
   "metadata": {},
   "source": [
    "# 2, 3 Интервалы возрастания и убывания функции"
   ]
  },
  {
   "cell_type": "code",
   "execution_count": 7,
   "id": "9c038fb9",
   "metadata": {},
   "outputs": [
    {
     "data": {
      "text/latex": [
       "$\\displaystyle \\left(- \\sin{\\left(x \\right)} + \\cos{\\left(x \\right)}\\right) \\left(\\frac{\\sin{\\left(x \\right)}}{2} + \\frac{\\cos{\\left(x \\right)}}{2}\\right) \\sin{\\left(x \\right)} + \\left(\\frac{\\sin{\\left(x \\right)}}{2} + \\frac{\\cos{\\left(x \\right)}}{2}\\right)^{2} \\cos{\\left(x \\right)}$"
      ],
      "text/plain": [
       "(-sin(x) + cos(x))*(sin(x)/2 + cos(x)/2)*sin(x) + (sin(x)/2 + cos(x)/2)**2*cos(x)"
      ]
     },
     "execution_count": 7,
     "metadata": {},
     "output_type": "execute_result"
    }
   ],
   "source": [
    "# производная\n",
    "res = diff(func,x)\n",
    "res"
   ]
  },
  {
   "cell_type": "code",
   "execution_count": 8,
   "id": "7ffdad4d",
   "metadata": {},
   "outputs": [
    {
     "data": {
      "text/plain": [
       "[-pi/4,\n",
       " 3*pi/4,\n",
       " -2*atan(-3/2 + sqrt(6)*sqrt(5 - sqrt(17))/2 + sqrt(17)/2),\n",
       " 2*atan(3/2 + sqrt(17)/2 + sqrt(6)*sqrt(sqrt(17) + 5)/2),\n",
       " 2*atan(-sqrt(17)/2 + sqrt(6)*sqrt(5 - sqrt(17))/2 + 3/2),\n",
       " 2*atan(-sqrt(6)*sqrt(sqrt(17) + 5)/2 + 3/2 + sqrt(17)/2)]"
      ]
     },
     "execution_count": 8,
     "metadata": {},
     "output_type": "execute_result"
    }
   ],
   "source": [
    "# корень производной\n",
    "root_res = solve(res, x)\n",
    "root_res"
   ]
  },
  {
   "cell_type": "code",
   "execution_count": 9,
   "id": "84d1a4bf",
   "metadata": {},
   "outputs": [
    {
     "data": {
      "text/plain": [
       "[-pi, -2.08, -0.79, -0.27, 1.06, 2.36, 2.87, pi]"
      ]
     },
     "execution_count": 9,
     "metadata": {},
     "output_type": "execute_result"
    }
   ],
   "source": [
    "# перегибы\n",
    "point = []  \n",
    "for i in root_res:\n",
    "    point.append(round(i.evalf(),2))\n",
    "point.insert(0,-pi)\n",
    "point.append(pi)\n",
    "point.sort()\n",
    "point"
   ]
  },
  {
   "cell_type": "code",
   "execution_count": 10,
   "id": "556919d2",
   "metadata": {},
   "outputs": [
    {
     "data": {
      "text/plain": [
       "[Interval(-pi, -2.08),\n",
       " Interval(-2.08, -0.79),\n",
       " Interval(-0.79, -0.27),\n",
       " Interval(-0.27, 1.06),\n",
       " Interval(1.06, 2.36),\n",
       " Interval(2.36, 2.87),\n",
       " Interval(2.87, pi)]"
      ]
     },
     "execution_count": 10,
     "metadata": {},
     "output_type": "execute_result"
    }
   ],
   "source": [
    "interval = []\n",
    "for i in range(0, len(point)-1):\n",
    "    interval.append(Interval(point[i], point[i+1]))\n",
    "interval"
   ]
  },
  {
   "cell_type": "code",
   "execution_count": 11,
   "id": "73a0ef66",
   "metadata": {},
   "outputs": [
    {
     "data": {
      "text/plain": [
       "[-2.61, -1.44, -0.53, 0.40, 1.71, 2.62, 3.01]"
      ]
     },
     "execution_count": 11,
     "metadata": {},
     "output_type": "execute_result"
    }
   ],
   "source": [
    "mid_interval = []\n",
    "for i in range(0, len(point)-1):\n",
    "    mid_interval.append(round((point[i]+ (point[i+1] - point[i])/2).evalf(),2))\n",
    "mid_interval"
   ]
  },
  {
   "cell_type": "markdown",
   "id": "05b67fa9",
   "metadata": {},
   "source": [
    "## Возрастание"
   ]
  },
  {
   "cell_type": "code",
   "execution_count": 12,
   "id": "910a5e25",
   "metadata": {},
   "outputs": [
    {
     "name": "stdout",
     "output_type": "stream",
     "text": [
      "Interval(-2.08, -0.79)\n",
      "Interval(-0.27, 1.06)\n",
      "Interval(2.36, 2.87)\n"
     ]
    }
   ],
   "source": [
    "for i, j in enumerate(mid_interval):\n",
    "    if res.subs(x, j).evalf() > 0:\n",
    "        print(f'{interval[i]}')"
   ]
  },
  {
   "cell_type": "markdown",
   "id": "59aa9db8",
   "metadata": {},
   "source": [
    "## Убывание"
   ]
  },
  {
   "cell_type": "code",
   "execution_count": 13,
   "id": "1fbba65d",
   "metadata": {},
   "outputs": [
    {
     "name": "stdout",
     "output_type": "stream",
     "text": [
      "Interval(-pi, -2.08)\n",
      "Interval(-0.79, -0.27)\n",
      "Interval(1.06, 2.36)\n",
      "Interval(2.87, pi)\n"
     ]
    }
   ],
   "source": [
    "for i, j in enumerate(mid_interval):\n",
    "    if res.subs(x, j).evalf() < 0:\n",
    "        print(f'{interval[i]}')"
   ]
  },
  {
   "cell_type": "markdown",
   "id": "39e2e486",
   "metadata": {},
   "source": [
    "# 4. Построить график"
   ]
  },
  {
   "cell_type": "code",
   "execution_count": 6,
   "id": "22cf8389",
   "metadata": {},
   "outputs": [
    {
     "data": {
      "image/png": "[encoded data removed]",
      "text/plain": [
       "<Figure size 640x480 with 1 Axes>"
      ]
     },
     "metadata": {},
     "output_type": "display_data"
    }
   ],
   "source": [
    "graph = plot(func, (x, -pi, pi))"
   ]
  },
  {
   "cell_type": "markdown",
   "id": "352109be",
   "metadata": {},
   "source": [
    "# 5. Вычислить вершину"
   ]
  },
  {
   "cell_type": "code",
   "execution_count": 15,
   "id": "d372eff8",
   "metadata": {},
   "outputs": [
    {
     "name": "stdout",
     "output_type": "stream",
     "text": [
      "1: x = -2.08, y = -0.40\n",
      "2: x = -0.79, y = 0.0\n",
      "3: x = -0.27, y = -0.03\n",
      "4: x = 1.06, y = 0.40\n",
      "5: x = 2.36, y = 0.0\n",
      "6: x = 2.87, y = 0.03\n"
     ]
    }
   ],
   "source": [
    "top = point[1:-1]\n",
    "index = 1\n",
    "for i in top:\n",
    "    print(f'{index}: x = {i}, y = {round(func.subs(x,i).evalf(),2)}')\n",
    "    index += 1"
   ]
  },
  {
   "cell_type": "markdown",
   "id": "2763bf9e",
   "metadata": {},
   "source": [
    "# 6 Определить промежутки, на котором f > 0"
   ]
  },
  {
   "cell_type": "code",
   "execution_count": 16,
   "id": "e3fcff29",
   "metadata": {},
   "outputs": [
    {
     "data": {
      "text/latex": [
       "$\\displaystyle \\left(0, \\frac{3 \\pi}{4}\\right) \\cup \\left(\\frac{3 \\pi}{4}, \\pi\\right)$"
      ],
      "text/plain": [
       "Union(Interval.open(0, 3*pi/4), Interval.open(3*pi/4, pi))"
      ]
     },
     "execution_count": 16,
     "metadata": {},
     "output_type": "execute_result"
    }
   ],
   "source": [
    "solveset(func > 0, x, S.Reals)"
   ]
  },
  {
   "cell_type": "markdown",
   "id": "68d823af",
   "metadata": {},
   "source": [
    "# 7 Определить промежутки, на котором f < 0"
   ]
  },
  {
   "cell_type": "code",
   "execution_count": 17,
   "id": "5743e80e",
   "metadata": {},
   "outputs": [
    {
     "data": {
      "text/latex": [
       "$\\displaystyle \\left(\\pi, \\frac{7 \\pi}{4}\\right) \\cup \\left(\\frac{7 \\pi}{4}, 2 \\pi\\right)$"
      ],
      "text/plain": [
       "Union(Interval.open(pi, 7*pi/4), Interval.open(7*pi/4, 2*pi))"
      ]
     },
     "execution_count": 17,
     "metadata": {},
     "output_type": "execute_result"
    }
   ],
   "source": [
    "solveset(func < 0, x, S.Reals)"
   ]
  },
  {
   "cell_type": "code",
   "execution_count": null,
   "id": "6d54585c",
   "metadata": {},
   "outputs": [],
   "source": []
  }
 ],
 "metadata": {
  "kernelspec": {
   "display_name": "Python 3 (ipykernel)",
   "language": "python",
   "name": "python3"
  },
  "language_info": {
   "codemirror_mode": {
    "name": "ipython",
    "version": 3
   },
   "file_extension": ".py",
   "mimetype": "text/x-python",
   "name": "python",
   "nbconvert_exporter": "python",
   "pygments_lexer": "ipython3",
   "version": "3.9.13"
  }
 },
 "nbformat": 4,
 "nbformat_minor": 5
}
